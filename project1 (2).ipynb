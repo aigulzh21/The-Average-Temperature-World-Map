{
 "cells": [
  {
   "cell_type": "code",
   "execution_count": 18,
   "id": "424de211",
   "metadata": {},
   "outputs": [],
   "source": [
    "import pandas as pd\n",
    "import numpy as np\n",
    "import plotly.offline as py\n",
    "import plotly.express as px\n",
    "import seaborn as sb\n",
    "import matplotlib.pyplot as plt"
   ]
  },
  {
   "cell_type": "code",
   "execution_count": 19,
   "id": "44a7521d",
   "metadata": {},
   "outputs": [
    {
     "data": {
      "text/html": [
       "<div>\n",
       "<style scoped>\n",
       "    .dataframe tbody tr th:only-of-type {\n",
       "        vertical-align: middle;\n",
       "    }\n",
       "\n",
       "    .dataframe tbody tr th {\n",
       "        vertical-align: top;\n",
       "    }\n",
       "\n",
       "    .dataframe thead th {\n",
       "        text-align: right;\n",
       "    }\n",
       "</style>\n",
       "<table border=\"1\" class=\"dataframe\">\n",
       "  <thead>\n",
       "    <tr style=\"text-align: right;\">\n",
       "      <th></th>\n",
       "      <th>dt</th>\n",
       "      <th>AverageTemperature</th>\n",
       "      <th>AverageTemperatureUncertainty</th>\n",
       "      <th>Country</th>\n",
       "    </tr>\n",
       "  </thead>\n",
       "  <tbody>\n",
       "    <tr>\n",
       "      <th>0</th>\n",
       "      <td>1743-11-01</td>\n",
       "      <td>4.384</td>\n",
       "      <td>2.294</td>\n",
       "      <td>Åland</td>\n",
       "    </tr>\n",
       "    <tr>\n",
       "      <th>1</th>\n",
       "      <td>1743-12-01</td>\n",
       "      <td>NaN</td>\n",
       "      <td>NaN</td>\n",
       "      <td>Åland</td>\n",
       "    </tr>\n",
       "    <tr>\n",
       "      <th>2</th>\n",
       "      <td>1744-01-01</td>\n",
       "      <td>NaN</td>\n",
       "      <td>NaN</td>\n",
       "      <td>Åland</td>\n",
       "    </tr>\n",
       "    <tr>\n",
       "      <th>3</th>\n",
       "      <td>1744-02-01</td>\n",
       "      <td>NaN</td>\n",
       "      <td>NaN</td>\n",
       "      <td>Åland</td>\n",
       "    </tr>\n",
       "    <tr>\n",
       "      <th>4</th>\n",
       "      <td>1744-03-01</td>\n",
       "      <td>NaN</td>\n",
       "      <td>NaN</td>\n",
       "      <td>Åland</td>\n",
       "    </tr>\n",
       "    <tr>\n",
       "      <th>...</th>\n",
       "      <td>...</td>\n",
       "      <td>...</td>\n",
       "      <td>...</td>\n",
       "      <td>...</td>\n",
       "    </tr>\n",
       "    <tr>\n",
       "      <th>577457</th>\n",
       "      <td>2013-05-01</td>\n",
       "      <td>19.059</td>\n",
       "      <td>1.022</td>\n",
       "      <td>Zimbabwe</td>\n",
       "    </tr>\n",
       "    <tr>\n",
       "      <th>577458</th>\n",
       "      <td>2013-06-01</td>\n",
       "      <td>17.613</td>\n",
       "      <td>0.473</td>\n",
       "      <td>Zimbabwe</td>\n",
       "    </tr>\n",
       "    <tr>\n",
       "      <th>577459</th>\n",
       "      <td>2013-07-01</td>\n",
       "      <td>17.000</td>\n",
       "      <td>0.453</td>\n",
       "      <td>Zimbabwe</td>\n",
       "    </tr>\n",
       "    <tr>\n",
       "      <th>577460</th>\n",
       "      <td>2013-08-01</td>\n",
       "      <td>19.759</td>\n",
       "      <td>0.717</td>\n",
       "      <td>Zimbabwe</td>\n",
       "    </tr>\n",
       "    <tr>\n",
       "      <th>577461</th>\n",
       "      <td>2013-09-01</td>\n",
       "      <td>NaN</td>\n",
       "      <td>NaN</td>\n",
       "      <td>Zimbabwe</td>\n",
       "    </tr>\n",
       "  </tbody>\n",
       "</table>\n",
       "<p>577462 rows × 4 columns</p>\n",
       "</div>"
      ],
      "text/plain": [
       "                dt  AverageTemperature  AverageTemperatureUncertainty  \\\n",
       "0       1743-11-01               4.384                          2.294   \n",
       "1       1743-12-01                 NaN                            NaN   \n",
       "2       1744-01-01                 NaN                            NaN   \n",
       "3       1744-02-01                 NaN                            NaN   \n",
       "4       1744-03-01                 NaN                            NaN   \n",
       "...            ...                 ...                            ...   \n",
       "577457  2013-05-01              19.059                          1.022   \n",
       "577458  2013-06-01              17.613                          0.473   \n",
       "577459  2013-07-01              17.000                          0.453   \n",
       "577460  2013-08-01              19.759                          0.717   \n",
       "577461  2013-09-01                 NaN                            NaN   \n",
       "\n",
       "         Country  \n",
       "0          Åland  \n",
       "1          Åland  \n",
       "2          Åland  \n",
       "3          Åland  \n",
       "4          Åland  \n",
       "...          ...  \n",
       "577457  Zimbabwe  \n",
       "577458  Zimbabwe  \n",
       "577459  Zimbabwe  \n",
       "577460  Zimbabwe  \n",
       "577461  Zimbabwe  \n",
       "\n",
       "[577462 rows x 4 columns]"
      ]
     },
     "execution_count": 19,
     "metadata": {},
     "output_type": "execute_result"
    }
   ],
   "source": [
    "global_temp = pd.read_csv('https://raw.githubusercontent.com/gindeleo/climate/master/GlobalLandTemperaturesByCountry.csv')\n",
    "global_temp"
   ]
  },
  {
   "cell_type": "code",
   "execution_count": 20,
   "id": "eb0e2d45",
   "metadata": {},
   "outputs": [],
   "source": [
    "x = global_temp['Country']\n",
    "y = x.isin(['Denmark', 'France', 'Netherlands', 'United Kingdom'])\n",
    "global_temp_remove = global_temp[~y]\n",
    "    \n",
    "global_temp_remove = global_temp.replace(\n",
    "   ['Denmark (Europe)', 'France (Europe)', 'Netherlands (Europe)', 'United Kingdom (Europe)'],\n",
    "   ['Denmark', 'France', 'Netherlands', 'United Kingdom'])\n",
    "\n",
    "countries = np.unique(global_temp_remove['Country'])\n",
    "average_temp = []\n",
    "for country in countries:\n",
    "    average_temp.append(global_temp_remove[global_temp_remove['Country'] == country]['AverageTemperature'].mean())"
   ]
  },
  {
   "cell_type": "code",
   "execution_count": 21,
   "id": "bc4501db",
   "metadata": {},
   "outputs": [
    {
     "data": {
      "application/vnd.plotly.v1+json": {
       "config": {
        "plotlyServerURL": "https://plot.ly"
       },
       "data": [
        {
         "coloraxis": "coloraxis",
         "geo": "geo",
         "hovertemplate": "Country=%{location}<br>AverageTemperature=%{z}<extra></extra>",
         "locationmode": "country names",
         "locations": [
          "Afghanistan",
          "Africa",
          "Albania",
          "Algeria",
          "American Samoa",
          "Andorra",
          "Angola",
          "Anguilla",
          "Antarctica",
          "Antigua And Barbuda",
          "Argentina",
          "Armenia",
          "Aruba",
          "Asia",
          "Australia",
          "Austria",
          "Azerbaijan",
          "Bahamas",
          "Bahrain",
          "Baker Island",
          "Bangladesh",
          "Barbados",
          "Belarus",
          "Belgium",
          "Belize",
          "Benin",
          "Bhutan",
          "Bolivia",
          "Bonaire, Saint Eustatius And Saba",
          "Bosnia And Herzegovina",
          "Botswana",
          "Brazil",
          "British Virgin Islands",
          "Bulgaria",
          "Burkina Faso",
          "Burma",
          "Burundi",
          "Cambodia",
          "Cameroon",
          "Canada",
          "Cape Verde",
          "Cayman Islands",
          "Central African Republic",
          "Chad",
          "Chile",
          "China",
          "Christmas Island",
          "Colombia",
          "Comoros",
          "Congo",
          "Congo (Democratic Republic Of The)",
          "Costa Rica",
          "Croatia",
          "Cuba",
          "Curaçao",
          "Cyprus",
          "Czech Republic",
          "Côte D'Ivoire",
          "Denmark",
          "Denmark (Europe)",
          "Djibouti",
          "Dominica",
          "Dominican Republic",
          "Ecuador",
          "Egypt",
          "El Salvador",
          "Equatorial Guinea",
          "Eritrea",
          "Estonia",
          "Ethiopia",
          "Europe",
          "Falkland Islands (Islas Malvinas)",
          "Faroe Islands",
          "Federated States Of Micronesia",
          "Fiji",
          "Finland",
          "France",
          "France (Europe)",
          "French Guiana",
          "French Polynesia",
          "French Southern And Antarctic Lands",
          "Gabon",
          "Gambia",
          "Gaza Strip",
          "Georgia",
          "Germany",
          "Ghana",
          "Greece",
          "Greenland",
          "Grenada",
          "Guadeloupe",
          "Guam",
          "Guatemala",
          "Guernsey",
          "Guinea",
          "Guinea Bissau",
          "Guyana",
          "Haiti",
          "Heard Island And Mcdonald Islands",
          "Honduras",
          "Hong Kong",
          "Hungary",
          "Iceland",
          "India",
          "Indonesia",
          "Iran",
          "Iraq",
          "Ireland",
          "Isle Of Man",
          "Israel",
          "Italy",
          "Jamaica",
          "Japan",
          "Jersey",
          "Jordan",
          "Kazakhstan",
          "Kenya",
          "Kingman Reef",
          "Kiribati",
          "Kuwait",
          "Kyrgyzstan",
          "Laos",
          "Latvia",
          "Lebanon",
          "Lesotho",
          "Liberia",
          "Libya",
          "Liechtenstein",
          "Lithuania",
          "Luxembourg",
          "Macau",
          "Macedonia",
          "Madagascar",
          "Malawi",
          "Malaysia",
          "Mali",
          "Malta",
          "Martinique",
          "Mauritania",
          "Mauritius",
          "Mayotte",
          "Mexico",
          "Moldova",
          "Monaco",
          "Mongolia",
          "Montenegro",
          "Montserrat",
          "Morocco",
          "Mozambique",
          "Namibia",
          "Nepal",
          "Netherlands",
          "Netherlands (Europe)",
          "New Caledonia",
          "New Zealand",
          "Nicaragua",
          "Niger",
          "Nigeria",
          "Niue",
          "North America",
          "North Korea",
          "Northern Mariana Islands",
          "Norway",
          "Oceania",
          "Oman",
          "Pakistan",
          "Palau",
          "Palestina",
          "Palmyra Atoll",
          "Panama",
          "Papua New Guinea",
          "Paraguay",
          "Peru",
          "Philippines",
          "Poland",
          "Portugal",
          "Puerto Rico",
          "Qatar",
          "Reunion",
          "Romania",
          "Russia",
          "Rwanda",
          "Saint Barthélemy",
          "Saint Kitts And Nevis",
          "Saint Lucia",
          "Saint Martin",
          "Saint Pierre And Miquelon",
          "Saint Vincent And The Grenadines",
          "Samoa",
          "San Marino",
          "Sao Tome And Principe",
          "Saudi Arabia",
          "Senegal",
          "Serbia",
          "Seychelles",
          "Sierra Leone",
          "Singapore",
          "Sint Maarten",
          "Slovakia",
          "Slovenia",
          "Solomon Islands",
          "Somalia",
          "South Africa",
          "South America",
          "South Georgia And The South Sandwich Isla",
          "South Korea",
          "Spain",
          "Sri Lanka",
          "Sudan",
          "Suriname",
          "Svalbard And Jan Mayen",
          "Swaziland",
          "Sweden",
          "Switzerland",
          "Syria",
          "Taiwan",
          "Tajikistan",
          "Tanzania",
          "Thailand",
          "Timor Leste",
          "Togo",
          "Tonga",
          "Trinidad And Tobago",
          "Tunisia",
          "Turkey",
          "Turkmenistan",
          "Turks And Caicas Islands",
          "Uganda",
          "Ukraine",
          "United Arab Emirates",
          "United Kingdom",
          "United Kingdom (Europe)",
          "United States",
          "Uruguay",
          "Uzbekistan",
          "Venezuela",
          "Vietnam",
          "Virgin Islands",
          "Western Sahara",
          "Yemen",
          "Zambia",
          "Zimbabwe",
          "Åland"
         ],
         "name": "",
         "type": "choropleth",
         "z": [
          14.045007194244608,
          24.07420274551212,
          12.61064592545798,
          22.985111769059955,
          26.611965009208156,
          11.201553063802905,
          21.82454918981486,
          26.610491850431465,
          null,
          26.437924256951035,
          14.621194210526305,
          8.551647926634773,
          27.92039022051774,
          7.347892223161453,
          21.624696891191693,
          6.210731838281731,
          11.175936074918587,
          25.12822004008018,
          25.93080933465739,
          25.372350232798794,
          24.82024278370897,
          26.45854793863855,
          5.819288060644335,
          9.48337839545166,
          25.052099776286326,
          27.171999431818186,
          11.811878969957082,
          20.8772305263158,
          27.173294822627003,
          10.421283954516774,
          21.879296691568843,
          24.699255545286466,
          26.336523239099186,
          10.482968414403024,
          28.083506760410998,
          23.70619723953693,
          20.070990127758442,
          26.65685403576609,
          24.352585590778116,
          -5.216658945686897,
          24.185563568376022,
          26.722504150283953,
          25.28040691642648,
          27.12046628242079,
          9.383473684210513,
          6.612731031349375,
          25.784654071314534,
          24.716870967741926,
          25.70220930232557,
          24.462931988472597,
          23.77366493955099,
          25.615784434203807,
          11.342399873657591,
          25.407426387068544,
          27.353414669223397,
          18.78774568642161,
          7.626019267214149,
          25.948536060279846,
          -18.053050699300716,
          7.832859444093484,
          28.816602533172542,
          26.1101514860978,
          25.547511210762387,
          21.869970347003168,
          22.620693031209964,
          24.906704545454577,
          24.921677809798265,
          26.80265311004786,
          4.819805748578657,
          23.012356759976136,
          7.830063802905867,
          6.076773492667047,
          6.619001579279848,
          26.94435777126096,
          25.038671779141108,
          1.2447422615287405,
          12.772445672773216,
          10.416045799115615,
          25.718151106833467,
          26.10709611829945,
          4.983111111111109,
          24.254725648414972,
          27.538551816239316,
          19.19263696098565,
          8.106881895881907,
          8.152496209728362,
          26.71101355166567,
          14.773012002526816,
          -18.58745804195801,
          26.741952061361474,
          26.32956088207096,
          26.996834337349433,
          23.111650494159935,
          10.928408717624766,
          25.452353098290622,
          26.761366648850885,
          25.93092011549566,
          26.295837740923353,
          2.562114942528734,
          24.6955479945922,
          22.659894913627642,
          9.722423246999355,
          1.4050650663297544,
          23.87378947368426,
          25.684483767961684,
          17.60707645115617,
          21.77562887931037,
          9.419558433354414,
          9.365805432722688,
          19.626577302631585,
          12.737121920404292,
          26.0963395638629,
          11.95190733590733,
          10.928408717624766,
          19.346512587701167,
          5.202144758735441,
          24.102428231089974,
          27.133034438775535,
          26.73686534779841,
          25.09814023210831,
          3.2204981651376143,
          23.574696349064986,
          5.320545167403669,
          17.631617730784885,
          13.726681793913507,
          25.377737931034517,
          22.26825393848455,
          4.642939039797854,
          5.907991787744772,
          9.16519646241313,
          22.4183747600768,
          10.375550852811111,
          22.749045944412938,
          21.431086144578323,
          25.80544200779728,
          28.441976570819996,
          18.494875319693055,
          26.1101514860978,
          27.620255504352293,
          23.522653983353138,
          26.34096142938175,
          20.56755804195808,
          8.931716677195217,
          9.024701831964629,
          -0.8206709844559608,
          10.21462950094757,
          26.383128475551263,
          17.62749740932639,
          23.596194758785003,
          20.48449519743865,
          14.807390612244879,
          9.504604548325991,
          9.11279911560327,
          22.700108194965168,
          10.371239107883817,
          25.957508780036967,
          27.458972540045757,
          26.74470830912261,
          25.094878453038664,
          2.0283738920225614,
          6.748336832061071,
          26.996834337349433,
          0.09580385344283013,
          21.45298911917101,
          26.91686266589726,
          20.615513304305733,
          27.216379332477516,
          23.125663223140542,
          27.163455994897923,
          26.29162063808573,
          24.450801898734266,
          23.23796755725191,
          19.935974230044003,
          26.440472486772517,
          7.460205938092234,
          14.688179987212278,
          25.451961667465255,
          26.78499601593621,
          23.301403091557614,
          8.760901768793424,
          -5.521881912681911,
          19.24442218350756,
          26.610491850431465,
          25.852186001917556,
          26.646838446788106,
          26.610491850431465,
          4.2230599551138175,
          26.789448705656774,
          26.331862492326593,
          13.83142229943148,
          25.79438616714698,
          25.54640783525872,
          27.96737499999997,
          9.986563171193945,
          26.738423142370962,
          26.022571277159468,
          26.523102826510677,
          26.610491850431465,
          7.52721699305117,
          9.659700568540737,
          26.62503698979594,
          26.877085169743943,
          17.270982915109443,
          21.823920081967245,
          1.4010251017639086,
          11.849048745173734,
          13.6128341756159,
          26.9476870015949,
          27.093359428571475,
          26.171663137632375,
          -7.448027925531907,
          18.839807261078484,
          2.386331964624136,
          6.992051484523055,
          17.917548596990663,
          21.937427536231866,
          4.016035217794258,
          22.347910971786856,
          25.986800979519113,
          25.96633271832718,
          26.871782756664746,
          23.23624785276075,
          26.118751198466015,
          19.97059047314578,
          11.63156730091614,
          14.781998181818167,
          26.662733508082173,
          23.0329687137891,
          7.653507264687312,
          27.693994700582884,
          8.489325331648798,
          8.655788060644333,
          8.603572522159553,
          17.149306774809137,
          12.27801593806923,
          25.025685522531145,
          23.688365504061206,
          26.336523239099186,
          22.319817823343875,
          26.25359672528806,
          21.282955621301788,
          21.11754724637679,
          5.291383449147199
         ]
        }
       ],
       "layout": {
        "coloraxis": {
         "colorbar": {
          "title": {
           "text": "AverageTemperature"
          }
         },
         "colorscale": [
          [
           0,
           "rgb(23, 28, 66)"
          ],
          [
           0.09090909090909091,
           "rgb(41, 58, 143)"
          ],
          [
           0.18181818181818182,
           "rgb(11, 102, 189)"
          ],
          [
           0.2727272727272727,
           "rgb(69, 144, 185)"
          ],
          [
           0.36363636363636365,
           "rgb(142, 181, 194)"
          ],
          [
           0.45454545454545453,
           "rgb(210, 216, 219)"
          ],
          [
           0.5454545454545454,
           "rgb(230, 210, 204)"
          ],
          [
           0.6363636363636364,
           "rgb(213, 157, 137)"
          ],
          [
           0.7272727272727273,
           "rgb(196, 101, 72)"
          ],
          [
           0.8181818181818182,
           "rgb(172, 43, 36)"
          ],
          [
           0.9090909090909091,
           "rgb(120, 14, 40)"
          ],
          [
           1,
           "rgb(60, 9, 17)"
          ]
         ]
        },
        "geo": {
         "center": {},
         "domain": {
          "x": [
           0,
           1
          ],
          "y": [
           0,
           1
          ]
         }
        },
        "legend": {
         "tracegroupgap": 0
        },
        "template": {
         "data": {
          "bar": [
           {
            "error_x": {
             "color": "#2a3f5f"
            },
            "error_y": {
             "color": "#2a3f5f"
            },
            "marker": {
             "line": {
              "color": "#E5ECF6",
              "width": 0.5
             }
            },
            "type": "bar"
           }
          ],
          "barpolar": [
           {
            "marker": {
             "line": {
              "color": "#E5ECF6",
              "width": 0.5
             }
            },
            "type": "barpolar"
           }
          ],
          "carpet": [
           {
            "aaxis": {
             "endlinecolor": "#2a3f5f",
             "gridcolor": "white",
             "linecolor": "white",
             "minorgridcolor": "white",
             "startlinecolor": "#2a3f5f"
            },
            "baxis": {
             "endlinecolor": "#2a3f5f",
             "gridcolor": "white",
             "linecolor": "white",
             "minorgridcolor": "white",
             "startlinecolor": "#2a3f5f"
            },
            "type": "carpet"
           }
          ],
          "choropleth": [
           {
            "colorbar": {
             "outlinewidth": 0,
             "ticks": ""
            },
            "type": "choropleth"
           }
          ],
          "contour": [
           {
            "colorbar": {
             "outlinewidth": 0,
             "ticks": ""
            },
            "colorscale": [
             [
              0,
              "#0d0887"
             ],
             [
              0.1111111111111111,
              "#46039f"
             ],
             [
              0.2222222222222222,
              "#7201a8"
             ],
             [
              0.3333333333333333,
              "#9c179e"
             ],
             [
              0.4444444444444444,
              "#bd3786"
             ],
             [
              0.5555555555555556,
              "#d8576b"
             ],
             [
              0.6666666666666666,
              "#ed7953"
             ],
             [
              0.7777777777777778,
              "#fb9f3a"
             ],
             [
              0.8888888888888888,
              "#fdca26"
             ],
             [
              1,
              "#f0f921"
             ]
            ],
            "type": "contour"
           }
          ],
          "contourcarpet": [
           {
            "colorbar": {
             "outlinewidth": 0,
             "ticks": ""
            },
            "type": "contourcarpet"
           }
          ],
          "heatmap": [
           {
            "colorbar": {
             "outlinewidth": 0,
             "ticks": ""
            },
            "colorscale": [
             [
              0,
              "#0d0887"
             ],
             [
              0.1111111111111111,
              "#46039f"
             ],
             [
              0.2222222222222222,
              "#7201a8"
             ],
             [
              0.3333333333333333,
              "#9c179e"
             ],
             [
              0.4444444444444444,
              "#bd3786"
             ],
             [
              0.5555555555555556,
              "#d8576b"
             ],
             [
              0.6666666666666666,
              "#ed7953"
             ],
             [
              0.7777777777777778,
              "#fb9f3a"
             ],
             [
              0.8888888888888888,
              "#fdca26"
             ],
             [
              1,
              "#f0f921"
             ]
            ],
            "type": "heatmap"
           }
          ],
          "heatmapgl": [
           {
            "colorbar": {
             "outlinewidth": 0,
             "ticks": ""
            },
            "colorscale": [
             [
              0,
              "#0d0887"
             ],
             [
              0.1111111111111111,
              "#46039f"
             ],
             [
              0.2222222222222222,
              "#7201a8"
             ],
             [
              0.3333333333333333,
              "#9c179e"
             ],
             [
              0.4444444444444444,
              "#bd3786"
             ],
             [
              0.5555555555555556,
              "#d8576b"
             ],
             [
              0.6666666666666666,
              "#ed7953"
             ],
             [
              0.7777777777777778,
              "#fb9f3a"
             ],
             [
              0.8888888888888888,
              "#fdca26"
             ],
             [
              1,
              "#f0f921"
             ]
            ],
            "type": "heatmapgl"
           }
          ],
          "histogram": [
           {
            "marker": {
             "colorbar": {
              "outlinewidth": 0,
              "ticks": ""
             }
            },
            "type": "histogram"
           }
          ],
          "histogram2d": [
           {
            "colorbar": {
             "outlinewidth": 0,
             "ticks": ""
            },
            "colorscale": [
             [
              0,
              "#0d0887"
             ],
             [
              0.1111111111111111,
              "#46039f"
             ],
             [
              0.2222222222222222,
              "#7201a8"
             ],
             [
              0.3333333333333333,
              "#9c179e"
             ],
             [
              0.4444444444444444,
              "#bd3786"
             ],
             [
              0.5555555555555556,
              "#d8576b"
             ],
             [
              0.6666666666666666,
              "#ed7953"
             ],
             [
              0.7777777777777778,
              "#fb9f3a"
             ],
             [
              0.8888888888888888,
              "#fdca26"
             ],
             [
              1,
              "#f0f921"
             ]
            ],
            "type": "histogram2d"
           }
          ],
          "histogram2dcontour": [
           {
            "colorbar": {
             "outlinewidth": 0,
             "ticks": ""
            },
            "colorscale": [
             [
              0,
              "#0d0887"
             ],
             [
              0.1111111111111111,
              "#46039f"
             ],
             [
              0.2222222222222222,
              "#7201a8"
             ],
             [
              0.3333333333333333,
              "#9c179e"
             ],
             [
              0.4444444444444444,
              "#bd3786"
             ],
             [
              0.5555555555555556,
              "#d8576b"
             ],
             [
              0.6666666666666666,
              "#ed7953"
             ],
             [
              0.7777777777777778,
              "#fb9f3a"
             ],
             [
              0.8888888888888888,
              "#fdca26"
             ],
             [
              1,
              "#f0f921"
             ]
            ],
            "type": "histogram2dcontour"
           }
          ],
          "mesh3d": [
           {
            "colorbar": {
             "outlinewidth": 0,
             "ticks": ""
            },
            "type": "mesh3d"
           }
          ],
          "parcoords": [
           {
            "line": {
             "colorbar": {
              "outlinewidth": 0,
              "ticks": ""
             }
            },
            "type": "parcoords"
           }
          ],
          "pie": [
           {
            "automargin": true,
            "type": "pie"
           }
          ],
          "scatter": [
           {
            "marker": {
             "colorbar": {
              "outlinewidth": 0,
              "ticks": ""
             }
            },
            "type": "scatter"
           }
          ],
          "scatter3d": [
           {
            "line": {
             "colorbar": {
              "outlinewidth": 0,
              "ticks": ""
             }
            },
            "marker": {
             "colorbar": {
              "outlinewidth": 0,
              "ticks": ""
             }
            },
            "type": "scatter3d"
           }
          ],
          "scattercarpet": [
           {
            "marker": {
             "colorbar": {
              "outlinewidth": 0,
              "ticks": ""
             }
            },
            "type": "scattercarpet"
           }
          ],
          "scattergeo": [
           {
            "marker": {
             "colorbar": {
              "outlinewidth": 0,
              "ticks": ""
             }
            },
            "type": "scattergeo"
           }
          ],
          "scattergl": [
           {
            "marker": {
             "colorbar": {
              "outlinewidth": 0,
              "ticks": ""
             }
            },
            "type": "scattergl"
           }
          ],
          "scattermapbox": [
           {
            "marker": {
             "colorbar": {
              "outlinewidth": 0,
              "ticks": ""
             }
            },
            "type": "scattermapbox"
           }
          ],
          "scatterpolar": [
           {
            "marker": {
             "colorbar": {
              "outlinewidth": 0,
              "ticks": ""
             }
            },
            "type": "scatterpolar"
           }
          ],
          "scatterpolargl": [
           {
            "marker": {
             "colorbar": {
              "outlinewidth": 0,
              "ticks": ""
             }
            },
            "type": "scatterpolargl"
           }
          ],
          "scatterternary": [
           {
            "marker": {
             "colorbar": {
              "outlinewidth": 0,
              "ticks": ""
             }
            },
            "type": "scatterternary"
           }
          ],
          "surface": [
           {
            "colorbar": {
             "outlinewidth": 0,
             "ticks": ""
            },
            "colorscale": [
             [
              0,
              "#0d0887"
             ],
             [
              0.1111111111111111,
              "#46039f"
             ],
             [
              0.2222222222222222,
              "#7201a8"
             ],
             [
              0.3333333333333333,
              "#9c179e"
             ],
             [
              0.4444444444444444,
              "#bd3786"
             ],
             [
              0.5555555555555556,
              "#d8576b"
             ],
             [
              0.6666666666666666,
              "#ed7953"
             ],
             [
              0.7777777777777778,
              "#fb9f3a"
             ],
             [
              0.8888888888888888,
              "#fdca26"
             ],
             [
              1,
              "#f0f921"
             ]
            ],
            "type": "surface"
           }
          ],
          "table": [
           {
            "cells": {
             "fill": {
              "color": "#EBF0F8"
             },
             "line": {
              "color": "white"
             }
            },
            "header": {
             "fill": {
              "color": "#C8D4E3"
             },
             "line": {
              "color": "white"
             }
            },
            "type": "table"
           }
          ]
         },
         "layout": {
          "annotationdefaults": {
           "arrowcolor": "#2a3f5f",
           "arrowhead": 0,
           "arrowwidth": 1
          },
          "autotypenumbers": "strict",
          "coloraxis": {
           "colorbar": {
            "outlinewidth": 0,
            "ticks": ""
           }
          },
          "colorscale": {
           "diverging": [
            [
             0,
             "#8e0152"
            ],
            [
             0.1,
             "#c51b7d"
            ],
            [
             0.2,
             "#de77ae"
            ],
            [
             0.3,
             "#f1b6da"
            ],
            [
             0.4,
             "#fde0ef"
            ],
            [
             0.5,
             "#f7f7f7"
            ],
            [
             0.6,
             "#e6f5d0"
            ],
            [
             0.7,
             "#b8e186"
            ],
            [
             0.8,
             "#7fbc41"
            ],
            [
             0.9,
             "#4d9221"
            ],
            [
             1,
             "#276419"
            ]
           ],
           "sequential": [
            [
             0,
             "#0d0887"
            ],
            [
             0.1111111111111111,
             "#46039f"
            ],
            [
             0.2222222222222222,
             "#7201a8"
            ],
            [
             0.3333333333333333,
             "#9c179e"
            ],
            [
             0.4444444444444444,
             "#bd3786"
            ],
            [
             0.5555555555555556,
             "#d8576b"
            ],
            [
             0.6666666666666666,
             "#ed7953"
            ],
            [
             0.7777777777777778,
             "#fb9f3a"
            ],
            [
             0.8888888888888888,
             "#fdca26"
            ],
            [
             1,
             "#f0f921"
            ]
           ],
           "sequentialminus": [
            [
             0,
             "#0d0887"
            ],
            [
             0.1111111111111111,
             "#46039f"
            ],
            [
             0.2222222222222222,
             "#7201a8"
            ],
            [
             0.3333333333333333,
             "#9c179e"
            ],
            [
             0.4444444444444444,
             "#bd3786"
            ],
            [
             0.5555555555555556,
             "#d8576b"
            ],
            [
             0.6666666666666666,
             "#ed7953"
            ],
            [
             0.7777777777777778,
             "#fb9f3a"
            ],
            [
             0.8888888888888888,
             "#fdca26"
            ],
            [
             1,
             "#f0f921"
            ]
           ]
          },
          "colorway": [
           "#636efa",
           "#EF553B",
           "#00cc96",
           "#ab63fa",
           "#FFA15A",
           "#19d3f3",
           "#FF6692",
           "#B6E880",
           "#FF97FF",
           "#FECB52"
          ],
          "font": {
           "color": "#2a3f5f"
          },
          "geo": {
           "bgcolor": "white",
           "lakecolor": "white",
           "landcolor": "#E5ECF6",
           "showlakes": true,
           "showland": true,
           "subunitcolor": "white"
          },
          "hoverlabel": {
           "align": "left"
          },
          "hovermode": "closest",
          "mapbox": {
           "style": "light"
          },
          "paper_bgcolor": "white",
          "plot_bgcolor": "#E5ECF6",
          "polar": {
           "angularaxis": {
            "gridcolor": "white",
            "linecolor": "white",
            "ticks": ""
           },
           "bgcolor": "#E5ECF6",
           "radialaxis": {
            "gridcolor": "white",
            "linecolor": "white",
            "ticks": ""
           }
          },
          "scene": {
           "xaxis": {
            "backgroundcolor": "#E5ECF6",
            "gridcolor": "white",
            "gridwidth": 2,
            "linecolor": "white",
            "showbackground": true,
            "ticks": "",
            "zerolinecolor": "white"
           },
           "yaxis": {
            "backgroundcolor": "#E5ECF6",
            "gridcolor": "white",
            "gridwidth": 2,
            "linecolor": "white",
            "showbackground": true,
            "ticks": "",
            "zerolinecolor": "white"
           },
           "zaxis": {
            "backgroundcolor": "#E5ECF6",
            "gridcolor": "white",
            "gridwidth": 2,
            "linecolor": "white",
            "showbackground": true,
            "ticks": "",
            "zerolinecolor": "white"
           }
          },
          "shapedefaults": {
           "line": {
            "color": "#2a3f5f"
           }
          },
          "ternary": {
           "aaxis": {
            "gridcolor": "white",
            "linecolor": "white",
            "ticks": ""
           },
           "baxis": {
            "gridcolor": "white",
            "linecolor": "white",
            "ticks": ""
           },
           "bgcolor": "#E5ECF6",
           "caxis": {
            "gridcolor": "white",
            "linecolor": "white",
            "ticks": ""
           }
          },
          "title": {
           "x": 0.05
          },
          "xaxis": {
           "automargin": true,
           "gridcolor": "white",
           "linecolor": "white",
           "ticks": "",
           "title": {
            "standoff": 15
           },
           "zerolinecolor": "white",
           "zerolinewidth": 2
          },
          "yaxis": {
           "automargin": true,
           "gridcolor": "white",
           "linecolor": "white",
           "ticks": "",
           "title": {
            "standoff": 15
           },
           "zerolinecolor": "white",
           "zerolinewidth": 2
          }
         }
        },
        "title": {
         "text": "The Average Temperature World Map"
        }
       }
      },
      "text/html": [
       "<div>                            <div id=\"12fceab8-a0d9-4ba9-b2ff-e65f75c21eaa\" class=\"plotly-graph-div\" style=\"height:525px; width:100%;\"></div>            <script type=\"text/javascript\">                require([\"plotly\"], function(Plotly) {                    window.PLOTLYENV=window.PLOTLYENV || {};                                    if (document.getElementById(\"12fceab8-a0d9-4ba9-b2ff-e65f75c21eaa\")) {                    Plotly.newPlot(                        \"12fceab8-a0d9-4ba9-b2ff-e65f75c21eaa\",                        [{\"coloraxis\": \"coloraxis\", \"geo\": \"geo\", \"hovertemplate\": \"Country=%{location}<br>AverageTemperature=%{z}<extra></extra>\", \"locationmode\": \"country names\", \"locations\": [\"Afghanistan\", \"Africa\", \"Albania\", \"Algeria\", \"American Samoa\", \"Andorra\", \"Angola\", \"Anguilla\", \"Antarctica\", \"Antigua And Barbuda\", \"Argentina\", \"Armenia\", \"Aruba\", \"Asia\", \"Australia\", \"Austria\", \"Azerbaijan\", \"Bahamas\", \"Bahrain\", \"Baker Island\", \"Bangladesh\", \"Barbados\", \"Belarus\", \"Belgium\", \"Belize\", \"Benin\", \"Bhutan\", \"Bolivia\", \"Bonaire, Saint Eustatius And Saba\", \"Bosnia And Herzegovina\", \"Botswana\", \"Brazil\", \"British Virgin Islands\", \"Bulgaria\", \"Burkina Faso\", \"Burma\", \"Burundi\", \"Cambodia\", \"Cameroon\", \"Canada\", \"Cape Verde\", \"Cayman Islands\", \"Central African Republic\", \"Chad\", \"Chile\", \"China\", \"Christmas Island\", \"Colombia\", \"Comoros\", \"Congo\", \"Congo (Democratic Republic Of The)\", \"Costa Rica\", \"Croatia\", \"Cuba\", \"Cura\\u00e7ao\", \"Cyprus\", \"Czech Republic\", \"C\\u00f4te D'Ivoire\", \"Denmark\", \"Denmark (Europe)\", \"Djibouti\", \"Dominica\", \"Dominican Republic\", \"Ecuador\", \"Egypt\", \"El Salvador\", \"Equatorial Guinea\", \"Eritrea\", \"Estonia\", \"Ethiopia\", \"Europe\", \"Falkland Islands (Islas Malvinas)\", \"Faroe Islands\", \"Federated States Of Micronesia\", \"Fiji\", \"Finland\", \"France\", \"France (Europe)\", \"French Guiana\", \"French Polynesia\", \"French Southern And Antarctic Lands\", \"Gabon\", \"Gambia\", \"Gaza Strip\", \"Georgia\", \"Germany\", \"Ghana\", \"Greece\", \"Greenland\", \"Grenada\", \"Guadeloupe\", \"Guam\", \"Guatemala\", \"Guernsey\", \"Guinea\", \"Guinea Bissau\", \"Guyana\", \"Haiti\", \"Heard Island And Mcdonald Islands\", \"Honduras\", \"Hong Kong\", \"Hungary\", \"Iceland\", \"India\", \"Indonesia\", \"Iran\", \"Iraq\", \"Ireland\", \"Isle Of Man\", \"Israel\", \"Italy\", \"Jamaica\", \"Japan\", \"Jersey\", \"Jordan\", \"Kazakhstan\", \"Kenya\", \"Kingman Reef\", \"Kiribati\", \"Kuwait\", \"Kyrgyzstan\", \"Laos\", \"Latvia\", \"Lebanon\", \"Lesotho\", \"Liberia\", \"Libya\", \"Liechtenstein\", \"Lithuania\", \"Luxembourg\", \"Macau\", \"Macedonia\", \"Madagascar\", \"Malawi\", \"Malaysia\", \"Mali\", \"Malta\", \"Martinique\", \"Mauritania\", \"Mauritius\", \"Mayotte\", \"Mexico\", \"Moldova\", \"Monaco\", \"Mongolia\", \"Montenegro\", \"Montserrat\", \"Morocco\", \"Mozambique\", \"Namibia\", \"Nepal\", \"Netherlands\", \"Netherlands (Europe)\", \"New Caledonia\", \"New Zealand\", \"Nicaragua\", \"Niger\", \"Nigeria\", \"Niue\", \"North America\", \"North Korea\", \"Northern Mariana Islands\", \"Norway\", \"Oceania\", \"Oman\", \"Pakistan\", \"Palau\", \"Palestina\", \"Palmyra Atoll\", \"Panama\", \"Papua New Guinea\", \"Paraguay\", \"Peru\", \"Philippines\", \"Poland\", \"Portugal\", \"Puerto Rico\", \"Qatar\", \"Reunion\", \"Romania\", \"Russia\", \"Rwanda\", \"Saint Barth\\u00e9lemy\", \"Saint Kitts And Nevis\", \"Saint Lucia\", \"Saint Martin\", \"Saint Pierre And Miquelon\", \"Saint Vincent And The Grenadines\", \"Samoa\", \"San Marino\", \"Sao Tome And Principe\", \"Saudi Arabia\", \"Senegal\", \"Serbia\", \"Seychelles\", \"Sierra Leone\", \"Singapore\", \"Sint Maarten\", \"Slovakia\", \"Slovenia\", \"Solomon Islands\", \"Somalia\", \"South Africa\", \"South America\", \"South Georgia And The South Sandwich Isla\", \"South Korea\", \"Spain\", \"Sri Lanka\", \"Sudan\", \"Suriname\", \"Svalbard And Jan Mayen\", \"Swaziland\", \"Sweden\", \"Switzerland\", \"Syria\", \"Taiwan\", \"Tajikistan\", \"Tanzania\", \"Thailand\", \"Timor Leste\", \"Togo\", \"Tonga\", \"Trinidad And Tobago\", \"Tunisia\", \"Turkey\", \"Turkmenistan\", \"Turks And Caicas Islands\", \"Uganda\", \"Ukraine\", \"United Arab Emirates\", \"United Kingdom\", \"United Kingdom (Europe)\", \"United States\", \"Uruguay\", \"Uzbekistan\", \"Venezuela\", \"Vietnam\", \"Virgin Islands\", \"Western Sahara\", \"Yemen\", \"Zambia\", \"Zimbabwe\", \"\\u00c5land\"], \"name\": \"\", \"type\": \"choropleth\", \"z\": [14.045007194244608, 24.07420274551212, 12.61064592545798, 22.985111769059955, 26.611965009208156, 11.201553063802905, 21.82454918981486, 26.610491850431465, null, 26.437924256951035, 14.621194210526305, 8.551647926634773, 27.92039022051774, 7.347892223161453, 21.624696891191693, 6.210731838281731, 11.175936074918587, 25.12822004008018, 25.93080933465739, 25.372350232798794, 24.82024278370897, 26.45854793863855, 5.819288060644335, 9.48337839545166, 25.052099776286326, 27.171999431818186, 11.811878969957082, 20.8772305263158, 27.173294822627003, 10.421283954516774, 21.879296691568843, 24.699255545286466, 26.336523239099186, 10.482968414403024, 28.083506760410998, 23.70619723953693, 20.070990127758442, 26.65685403576609, 24.352585590778116, -5.216658945686897, 24.185563568376022, 26.722504150283953, 25.28040691642648, 27.12046628242079, 9.383473684210513, 6.612731031349375, 25.784654071314534, 24.716870967741926, 25.70220930232557, 24.462931988472597, 23.77366493955099, 25.615784434203807, 11.342399873657591, 25.407426387068544, 27.353414669223397, 18.78774568642161, 7.626019267214149, 25.948536060279846, -18.053050699300716, 7.832859444093484, 28.816602533172542, 26.1101514860978, 25.547511210762387, 21.869970347003168, 22.620693031209964, 24.906704545454577, 24.921677809798265, 26.80265311004786, 4.819805748578657, 23.012356759976136, 7.830063802905867, 6.076773492667047, 6.619001579279848, 26.94435777126096, 25.038671779141108, 1.2447422615287405, 12.772445672773216, 10.416045799115615, 25.718151106833467, 26.10709611829945, 4.983111111111109, 24.254725648414972, 27.538551816239316, 19.19263696098565, 8.106881895881907, 8.152496209728362, 26.71101355166567, 14.773012002526816, -18.58745804195801, 26.741952061361474, 26.32956088207096, 26.996834337349433, 23.111650494159935, 10.928408717624766, 25.452353098290622, 26.761366648850885, 25.93092011549566, 26.295837740923353, 2.562114942528734, 24.6955479945922, 22.659894913627642, 9.722423246999355, 1.4050650663297544, 23.87378947368426, 25.684483767961684, 17.60707645115617, 21.77562887931037, 9.419558433354414, 9.365805432722688, 19.626577302631585, 12.737121920404292, 26.0963395638629, 11.95190733590733, 10.928408717624766, 19.346512587701167, 5.202144758735441, 24.102428231089974, 27.133034438775535, 26.73686534779841, 25.09814023210831, 3.2204981651376143, 23.574696349064986, 5.320545167403669, 17.631617730784885, 13.726681793913507, 25.377737931034517, 22.26825393848455, 4.642939039797854, 5.907991787744772, 9.16519646241313, 22.4183747600768, 10.375550852811111, 22.749045944412938, 21.431086144578323, 25.80544200779728, 28.441976570819996, 18.494875319693055, 26.1101514860978, 27.620255504352293, 23.522653983353138, 26.34096142938175, 20.56755804195808, 8.931716677195217, 9.024701831964629, -0.8206709844559608, 10.21462950094757, 26.383128475551263, 17.62749740932639, 23.596194758785003, 20.48449519743865, 14.807390612244879, 9.504604548325991, 9.11279911560327, 22.700108194965168, 10.371239107883817, 25.957508780036967, 27.458972540045757, 26.74470830912261, 25.094878453038664, 2.0283738920225614, 6.748336832061071, 26.996834337349433, 0.09580385344283013, 21.45298911917101, 26.91686266589726, 20.615513304305733, 27.216379332477516, 23.125663223140542, 27.163455994897923, 26.29162063808573, 24.450801898734266, 23.23796755725191, 19.935974230044003, 26.440472486772517, 7.460205938092234, 14.688179987212278, 25.451961667465255, 26.78499601593621, 23.301403091557614, 8.760901768793424, -5.521881912681911, 19.24442218350756, 26.610491850431465, 25.852186001917556, 26.646838446788106, 26.610491850431465, 4.2230599551138175, 26.789448705656774, 26.331862492326593, 13.83142229943148, 25.79438616714698, 25.54640783525872, 27.96737499999997, 9.986563171193945, 26.738423142370962, 26.022571277159468, 26.523102826510677, 26.610491850431465, 7.52721699305117, 9.659700568540737, 26.62503698979594, 26.877085169743943, 17.270982915109443, 21.823920081967245, 1.4010251017639086, 11.849048745173734, 13.6128341756159, 26.9476870015949, 27.093359428571475, 26.171663137632375, -7.448027925531907, 18.839807261078484, 2.386331964624136, 6.992051484523055, 17.917548596990663, 21.937427536231866, 4.016035217794258, 22.347910971786856, 25.986800979519113, 25.96633271832718, 26.871782756664746, 23.23624785276075, 26.118751198466015, 19.97059047314578, 11.63156730091614, 14.781998181818167, 26.662733508082173, 23.0329687137891, 7.653507264687312, 27.693994700582884, 8.489325331648798, 8.655788060644333, 8.603572522159553, 17.149306774809137, 12.27801593806923, 25.025685522531145, 23.688365504061206, 26.336523239099186, 22.319817823343875, 26.25359672528806, 21.282955621301788, 21.11754724637679, 5.291383449147199]}],                        {\"coloraxis\": {\"colorbar\": {\"title\": {\"text\": \"AverageTemperature\"}}, \"colorscale\": [[0.0, \"rgb(23, 28, 66)\"], [0.09090909090909091, \"rgb(41, 58, 143)\"], [0.18181818181818182, \"rgb(11, 102, 189)\"], [0.2727272727272727, \"rgb(69, 144, 185)\"], [0.36363636363636365, \"rgb(142, 181, 194)\"], [0.45454545454545453, \"rgb(210, 216, 219)\"], [0.5454545454545454, \"rgb(230, 210, 204)\"], [0.6363636363636364, \"rgb(213, 157, 137)\"], [0.7272727272727273, \"rgb(196, 101, 72)\"], [0.8181818181818182, \"rgb(172, 43, 36)\"], [0.9090909090909091, \"rgb(120, 14, 40)\"], [1.0, \"rgb(60, 9, 17)\"]]}, \"geo\": {\"center\": {}, \"domain\": {\"x\": [0.0, 1.0], \"y\": [0.0, 1.0]}}, \"legend\": {\"tracegroupgap\": 0}, \"template\": {\"data\": {\"bar\": [{\"error_x\": {\"color\": \"#2a3f5f\"}, \"error_y\": {\"color\": \"#2a3f5f\"}, \"marker\": {\"line\": {\"color\": \"#E5ECF6\", \"width\": 0.5}}, \"type\": \"bar\"}], \"barpolar\": [{\"marker\": {\"line\": {\"color\": \"#E5ECF6\", \"width\": 0.5}}, \"type\": \"barpolar\"}], \"carpet\": [{\"aaxis\": {\"endlinecolor\": \"#2a3f5f\", \"gridcolor\": \"white\", \"linecolor\": \"white\", \"minorgridcolor\": \"white\", \"startlinecolor\": \"#2a3f5f\"}, \"baxis\": {\"endlinecolor\": \"#2a3f5f\", \"gridcolor\": \"white\", \"linecolor\": \"white\", \"minorgridcolor\": \"white\", \"startlinecolor\": \"#2a3f5f\"}, \"type\": \"carpet\"}], \"choropleth\": [{\"colorbar\": {\"outlinewidth\": 0, \"ticks\": \"\"}, \"type\": \"choropleth\"}], \"contour\": [{\"colorbar\": {\"outlinewidth\": 0, \"ticks\": \"\"}, \"colorscale\": [[0.0, \"#0d0887\"], [0.1111111111111111, \"#46039f\"], [0.2222222222222222, \"#7201a8\"], [0.3333333333333333, \"#9c179e\"], [0.4444444444444444, \"#bd3786\"], [0.5555555555555556, \"#d8576b\"], [0.6666666666666666, \"#ed7953\"], [0.7777777777777778, \"#fb9f3a\"], [0.8888888888888888, \"#fdca26\"], [1.0, \"#f0f921\"]], \"type\": \"contour\"}], \"contourcarpet\": [{\"colorbar\": {\"outlinewidth\": 0, \"ticks\": \"\"}, \"type\": \"contourcarpet\"}], \"heatmap\": [{\"colorbar\": {\"outlinewidth\": 0, \"ticks\": \"\"}, \"colorscale\": [[0.0, \"#0d0887\"], [0.1111111111111111, \"#46039f\"], [0.2222222222222222, \"#7201a8\"], [0.3333333333333333, \"#9c179e\"], [0.4444444444444444, \"#bd3786\"], [0.5555555555555556, \"#d8576b\"], [0.6666666666666666, \"#ed7953\"], [0.7777777777777778, \"#fb9f3a\"], [0.8888888888888888, \"#fdca26\"], [1.0, \"#f0f921\"]], \"type\": \"heatmap\"}], \"heatmapgl\": [{\"colorbar\": {\"outlinewidth\": 0, \"ticks\": \"\"}, \"colorscale\": [[0.0, \"#0d0887\"], [0.1111111111111111, \"#46039f\"], [0.2222222222222222, \"#7201a8\"], [0.3333333333333333, \"#9c179e\"], [0.4444444444444444, \"#bd3786\"], [0.5555555555555556, \"#d8576b\"], [0.6666666666666666, \"#ed7953\"], [0.7777777777777778, \"#fb9f3a\"], [0.8888888888888888, \"#fdca26\"], [1.0, \"#f0f921\"]], \"type\": \"heatmapgl\"}], \"histogram\": [{\"marker\": {\"colorbar\": {\"outlinewidth\": 0, \"ticks\": \"\"}}, \"type\": \"histogram\"}], \"histogram2d\": [{\"colorbar\": {\"outlinewidth\": 0, \"ticks\": \"\"}, \"colorscale\": [[0.0, \"#0d0887\"], [0.1111111111111111, \"#46039f\"], [0.2222222222222222, \"#7201a8\"], [0.3333333333333333, \"#9c179e\"], [0.4444444444444444, \"#bd3786\"], [0.5555555555555556, \"#d8576b\"], [0.6666666666666666, \"#ed7953\"], [0.7777777777777778, \"#fb9f3a\"], [0.8888888888888888, \"#fdca26\"], [1.0, \"#f0f921\"]], \"type\": \"histogram2d\"}], \"histogram2dcontour\": [{\"colorbar\": {\"outlinewidth\": 0, \"ticks\": \"\"}, \"colorscale\": [[0.0, \"#0d0887\"], [0.1111111111111111, \"#46039f\"], [0.2222222222222222, \"#7201a8\"], [0.3333333333333333, \"#9c179e\"], [0.4444444444444444, \"#bd3786\"], [0.5555555555555556, \"#d8576b\"], [0.6666666666666666, \"#ed7953\"], [0.7777777777777778, \"#fb9f3a\"], [0.8888888888888888, \"#fdca26\"], [1.0, \"#f0f921\"]], \"type\": \"histogram2dcontour\"}], \"mesh3d\": [{\"colorbar\": {\"outlinewidth\": 0, \"ticks\": \"\"}, \"type\": \"mesh3d\"}], \"parcoords\": [{\"line\": {\"colorbar\": {\"outlinewidth\": 0, \"ticks\": \"\"}}, \"type\": \"parcoords\"}], \"pie\": [{\"automargin\": true, \"type\": \"pie\"}], \"scatter\": [{\"marker\": {\"colorbar\": {\"outlinewidth\": 0, \"ticks\": \"\"}}, \"type\": \"scatter\"}], \"scatter3d\": [{\"line\": {\"colorbar\": {\"outlinewidth\": 0, \"ticks\": \"\"}}, \"marker\": {\"colorbar\": {\"outlinewidth\": 0, \"ticks\": \"\"}}, \"type\": \"scatter3d\"}], \"scattercarpet\": [{\"marker\": {\"colorbar\": {\"outlinewidth\": 0, \"ticks\": \"\"}}, \"type\": \"scattercarpet\"}], \"scattergeo\": [{\"marker\": {\"colorbar\": {\"outlinewidth\": 0, \"ticks\": \"\"}}, \"type\": \"scattergeo\"}], \"scattergl\": [{\"marker\": {\"colorbar\": {\"outlinewidth\": 0, \"ticks\": \"\"}}, \"type\": \"scattergl\"}], \"scattermapbox\": [{\"marker\": {\"colorbar\": {\"outlinewidth\": 0, \"ticks\": \"\"}}, \"type\": \"scattermapbox\"}], \"scatterpolar\": [{\"marker\": {\"colorbar\": {\"outlinewidth\": 0, \"ticks\": \"\"}}, \"type\": \"scatterpolar\"}], \"scatterpolargl\": [{\"marker\": {\"colorbar\": {\"outlinewidth\": 0, \"ticks\": \"\"}}, \"type\": \"scatterpolargl\"}], \"scatterternary\": [{\"marker\": {\"colorbar\": {\"outlinewidth\": 0, \"ticks\": \"\"}}, \"type\": \"scatterternary\"}], \"surface\": [{\"colorbar\": {\"outlinewidth\": 0, \"ticks\": \"\"}, \"colorscale\": [[0.0, \"#0d0887\"], [0.1111111111111111, \"#46039f\"], [0.2222222222222222, \"#7201a8\"], [0.3333333333333333, \"#9c179e\"], [0.4444444444444444, \"#bd3786\"], [0.5555555555555556, \"#d8576b\"], [0.6666666666666666, \"#ed7953\"], [0.7777777777777778, \"#fb9f3a\"], [0.8888888888888888, \"#fdca26\"], [1.0, \"#f0f921\"]], \"type\": \"surface\"}], \"table\": [{\"cells\": {\"fill\": {\"color\": \"#EBF0F8\"}, \"line\": {\"color\": \"white\"}}, \"header\": {\"fill\": {\"color\": \"#C8D4E3\"}, \"line\": {\"color\": \"white\"}}, \"type\": \"table\"}]}, \"layout\": {\"annotationdefaults\": {\"arrowcolor\": \"#2a3f5f\", \"arrowhead\": 0, \"arrowwidth\": 1}, \"autotypenumbers\": \"strict\", \"coloraxis\": {\"colorbar\": {\"outlinewidth\": 0, \"ticks\": \"\"}}, \"colorscale\": {\"diverging\": [[0, \"#8e0152\"], [0.1, \"#c51b7d\"], [0.2, \"#de77ae\"], [0.3, \"#f1b6da\"], [0.4, \"#fde0ef\"], [0.5, \"#f7f7f7\"], [0.6, \"#e6f5d0\"], [0.7, \"#b8e186\"], [0.8, \"#7fbc41\"], [0.9, \"#4d9221\"], [1, \"#276419\"]], \"sequential\": [[0.0, \"#0d0887\"], [0.1111111111111111, \"#46039f\"], [0.2222222222222222, \"#7201a8\"], [0.3333333333333333, \"#9c179e\"], [0.4444444444444444, \"#bd3786\"], [0.5555555555555556, \"#d8576b\"], [0.6666666666666666, \"#ed7953\"], [0.7777777777777778, \"#fb9f3a\"], [0.8888888888888888, \"#fdca26\"], [1.0, \"#f0f921\"]], \"sequentialminus\": [[0.0, \"#0d0887\"], [0.1111111111111111, \"#46039f\"], [0.2222222222222222, \"#7201a8\"], [0.3333333333333333, \"#9c179e\"], [0.4444444444444444, \"#bd3786\"], [0.5555555555555556, \"#d8576b\"], [0.6666666666666666, \"#ed7953\"], [0.7777777777777778, \"#fb9f3a\"], [0.8888888888888888, \"#fdca26\"], [1.0, \"#f0f921\"]]}, \"colorway\": [\"#636efa\", \"#EF553B\", \"#00cc96\", \"#ab63fa\", \"#FFA15A\", \"#19d3f3\", \"#FF6692\", \"#B6E880\", \"#FF97FF\", \"#FECB52\"], \"font\": {\"color\": \"#2a3f5f\"}, \"geo\": {\"bgcolor\": \"white\", \"lakecolor\": \"white\", \"landcolor\": \"#E5ECF6\", \"showlakes\": true, \"showland\": true, \"subunitcolor\": \"white\"}, \"hoverlabel\": {\"align\": \"left\"}, \"hovermode\": \"closest\", \"mapbox\": {\"style\": \"light\"}, \"paper_bgcolor\": \"white\", \"plot_bgcolor\": \"#E5ECF6\", \"polar\": {\"angularaxis\": {\"gridcolor\": \"white\", \"linecolor\": \"white\", \"ticks\": \"\"}, \"bgcolor\": \"#E5ECF6\", \"radialaxis\": {\"gridcolor\": \"white\", \"linecolor\": \"white\", \"ticks\": \"\"}}, \"scene\": {\"xaxis\": {\"backgroundcolor\": \"#E5ECF6\", \"gridcolor\": \"white\", \"gridwidth\": 2, \"linecolor\": \"white\", \"showbackground\": true, \"ticks\": \"\", \"zerolinecolor\": \"white\"}, \"yaxis\": {\"backgroundcolor\": \"#E5ECF6\", \"gridcolor\": \"white\", \"gridwidth\": 2, \"linecolor\": \"white\", \"showbackground\": true, \"ticks\": \"\", \"zerolinecolor\": \"white\"}, \"zaxis\": {\"backgroundcolor\": \"#E5ECF6\", \"gridcolor\": \"white\", \"gridwidth\": 2, \"linecolor\": \"white\", \"showbackground\": true, \"ticks\": \"\", \"zerolinecolor\": \"white\"}}, \"shapedefaults\": {\"line\": {\"color\": \"#2a3f5f\"}}, \"ternary\": {\"aaxis\": {\"gridcolor\": \"white\", \"linecolor\": \"white\", \"ticks\": \"\"}, \"baxis\": {\"gridcolor\": \"white\", \"linecolor\": \"white\", \"ticks\": \"\"}, \"bgcolor\": \"#E5ECF6\", \"caxis\": {\"gridcolor\": \"white\", \"linecolor\": \"white\", \"ticks\": \"\"}}, \"title\": {\"x\": 0.05}, \"xaxis\": {\"automargin\": true, \"gridcolor\": \"white\", \"linecolor\": \"white\", \"ticks\": \"\", \"title\": {\"standoff\": 15}, \"zerolinecolor\": \"white\", \"zerolinewidth\": 2}, \"yaxis\": {\"automargin\": true, \"gridcolor\": \"white\", \"linecolor\": \"white\", \"ticks\": \"\", \"title\": {\"standoff\": 15}, \"zerolinecolor\": \"white\", \"zerolinewidth\": 2}}}, \"title\": {\"text\": \"The Average Temperature World Map\"}},                        {\"responsive\": true}                    ).then(function(){\n",
       "                            \n",
       "var gd = document.getElementById('12fceab8-a0d9-4ba9-b2ff-e65f75c21eaa');\n",
       "var x = new MutationObserver(function (mutations, observer) {{\n",
       "        var display = window.getComputedStyle(gd).display;\n",
       "        if (!display || display === 'none') {{\n",
       "            console.log([gd, 'removed!']);\n",
       "            Plotly.purge(gd);\n",
       "            observer.disconnect();\n",
       "        }}\n",
       "}});\n",
       "\n",
       "// Listen for the removal of the full notebook cells\n",
       "var notebookContainer = gd.closest('#notebook-container');\n",
       "if (notebookContainer) {{\n",
       "    x.observe(notebookContainer, {childList: true});\n",
       "}}\n",
       "\n",
       "// Listen for the clearing of the current output cell\n",
       "var outputEl = gd.closest('.output');\n",
       "if (outputEl) {{\n",
       "    x.observe(outputEl, {childList: true});\n",
       "}}\n",
       "\n",
       "                        })                };                });            </script>        </div>"
      ]
     },
     "metadata": {},
     "output_type": "display_data"
    }
   ],
   "source": [
    "data = global_temp.groupby(by = ['Country']).mean().reset_index()\n",
    "fig = px.choropleth(data, locations = 'Country', locationmode = 'country names',\n",
    "                       color = 'AverageTemperature', color_continuous_scale = px.colors.diverging.balance, \n",
    "                       title = 'The Average Temperature World Map')\n",
    "fig.show()"
   ]
  },
  {
   "cell_type": "code",
   "execution_count": 22,
   "id": "34d24d97",
   "metadata": {},
   "outputs": [
    {
     "data": {
      "application/vnd.plotly.v1+json": {
       "config": {
        "linkText": "Export to plot.ly",
        "plotlyServerURL": "https://plot.ly",
        "showLink": false
       },
       "data": [
        {
         "autocolorscale": false,
         "colorbar": {
          "title": "Average Temperature, °C"
         },
         "colorscale": "custom-colorscale",
         "locationmode": "country names",
         "locations": [
          "Afghanistan",
          "Africa",
          "Albania",
          "Algeria",
          "American Samoa",
          "Andorra",
          "Angola",
          "Anguilla",
          "Antarctica",
          "Antigua And Barbuda",
          "Argentina",
          "Armenia",
          "Aruba",
          "Asia",
          "Australia",
          "Austria",
          "Azerbaijan",
          "Bahamas",
          "Bahrain",
          "Baker Island",
          "Bangladesh",
          "Barbados",
          "Belarus",
          "Belgium",
          "Belize",
          "Benin",
          "Bhutan",
          "Bolivia",
          "Bonaire, Saint Eustatius And Saba",
          "Bosnia And Herzegovina",
          "Botswana",
          "Brazil",
          "British Virgin Islands",
          "Bulgaria",
          "Burkina Faso",
          "Burma",
          "Burundi",
          "Cambodia",
          "Cameroon",
          "Canada",
          "Cape Verde",
          "Cayman Islands",
          "Central African Republic",
          "Chad",
          "Chile",
          "China",
          "Christmas Island",
          "Colombia",
          "Comoros",
          "Congo",
          "Congo (Democratic Republic Of The)",
          "Costa Rica",
          "Croatia",
          "Cuba",
          "Curaçao",
          "Cyprus",
          "Czech Republic",
          "Côte D'Ivoire",
          "Denmark",
          "Djibouti",
          "Dominica",
          "Dominican Republic",
          "Ecuador",
          "Egypt",
          "El Salvador",
          "Equatorial Guinea",
          "Eritrea",
          "Estonia",
          "Ethiopia",
          "Europe",
          "Falkland Islands (Islas Malvinas)",
          "Faroe Islands",
          "Federated States Of Micronesia",
          "Fiji",
          "Finland",
          "France",
          "French Guiana",
          "French Polynesia",
          "French Southern And Antarctic Lands",
          "Gabon",
          "Gambia",
          "Gaza Strip",
          "Georgia",
          "Germany",
          "Ghana",
          "Greece",
          "Greenland",
          "Grenada",
          "Guadeloupe",
          "Guam",
          "Guatemala",
          "Guernsey",
          "Guinea",
          "Guinea Bissau",
          "Guyana",
          "Haiti",
          "Heard Island And Mcdonald Islands",
          "Honduras",
          "Hong Kong",
          "Hungary",
          "Iceland",
          "India",
          "Indonesia",
          "Iran",
          "Iraq",
          "Ireland",
          "Isle Of Man",
          "Israel",
          "Italy",
          "Jamaica",
          "Japan",
          "Jersey",
          "Jordan",
          "Kazakhstan",
          "Kenya",
          "Kingman Reef",
          "Kiribati",
          "Kuwait",
          "Kyrgyzstan",
          "Laos",
          "Latvia",
          "Lebanon",
          "Lesotho",
          "Liberia",
          "Libya",
          "Liechtenstein",
          "Lithuania",
          "Luxembourg",
          "Macau",
          "Macedonia",
          "Madagascar",
          "Malawi",
          "Malaysia",
          "Mali",
          "Malta",
          "Martinique",
          "Mauritania",
          "Mauritius",
          "Mayotte",
          "Mexico",
          "Moldova",
          "Monaco",
          "Mongolia",
          "Montenegro",
          "Montserrat",
          "Morocco",
          "Mozambique",
          "Namibia",
          "Nepal",
          "Netherlands",
          "New Caledonia",
          "New Zealand",
          "Nicaragua",
          "Niger",
          "Nigeria",
          "Niue",
          "North America",
          "North Korea",
          "Northern Mariana Islands",
          "Norway",
          "Oceania",
          "Oman",
          "Pakistan",
          "Palau",
          "Palestina",
          "Palmyra Atoll",
          "Panama",
          "Papua New Guinea",
          "Paraguay",
          "Peru",
          "Philippines",
          "Poland",
          "Portugal",
          "Puerto Rico",
          "Qatar",
          "Reunion",
          "Romania",
          "Russia",
          "Rwanda",
          "Saint Barthélemy",
          "Saint Kitts And Nevis",
          "Saint Lucia",
          "Saint Martin",
          "Saint Pierre And Miquelon",
          "Saint Vincent And The Grenadines",
          "Samoa",
          "San Marino",
          "Sao Tome And Principe",
          "Saudi Arabia",
          "Senegal",
          "Serbia",
          "Seychelles",
          "Sierra Leone",
          "Singapore",
          "Sint Maarten",
          "Slovakia",
          "Slovenia",
          "Solomon Islands",
          "Somalia",
          "South Africa",
          "South America",
          "South Georgia And The South Sandwich Isla",
          "South Korea",
          "Spain",
          "Sri Lanka",
          "Sudan",
          "Suriname",
          "Svalbard And Jan Mayen",
          "Swaziland",
          "Sweden",
          "Switzerland",
          "Syria",
          "Taiwan",
          "Tajikistan",
          "Tanzania",
          "Thailand",
          "Timor Leste",
          "Togo",
          "Tonga",
          "Trinidad And Tobago",
          "Tunisia",
          "Turkey",
          "Turkmenistan",
          "Turks And Caicas Islands",
          "Uganda",
          "Ukraine",
          "United Arab Emirates",
          "United Kingdom",
          "United States",
          "Uruguay",
          "Uzbekistan",
          "Venezuela",
          "Vietnam",
          "Virgin Islands",
          "Western Sahara",
          "Yemen",
          "Zambia",
          "Zimbabwe",
          "Åland"
         ],
         "text": [
          "Afghanistan",
          "Africa",
          "Albania",
          "Algeria",
          "American Samoa",
          "Andorra",
          "Angola",
          "Anguilla",
          "Antarctica",
          "Antigua And Barbuda",
          "Argentina",
          "Armenia",
          "Aruba",
          "Asia",
          "Australia",
          "Austria",
          "Azerbaijan",
          "Bahamas",
          "Bahrain",
          "Baker Island",
          "Bangladesh",
          "Barbados",
          "Belarus",
          "Belgium",
          "Belize",
          "Benin",
          "Bhutan",
          "Bolivia",
          "Bonaire, Saint Eustatius And Saba",
          "Bosnia And Herzegovina",
          "Botswana",
          "Brazil",
          "British Virgin Islands",
          "Bulgaria",
          "Burkina Faso",
          "Burma",
          "Burundi",
          "Cambodia",
          "Cameroon",
          "Canada",
          "Cape Verde",
          "Cayman Islands",
          "Central African Republic",
          "Chad",
          "Chile",
          "China",
          "Christmas Island",
          "Colombia",
          "Comoros",
          "Congo",
          "Congo (Democratic Republic Of The)",
          "Costa Rica",
          "Croatia",
          "Cuba",
          "Curaçao",
          "Cyprus",
          "Czech Republic",
          "Côte D'Ivoire",
          "Denmark",
          "Djibouti",
          "Dominica",
          "Dominican Republic",
          "Ecuador",
          "Egypt",
          "El Salvador",
          "Equatorial Guinea",
          "Eritrea",
          "Estonia",
          "Ethiopia",
          "Europe",
          "Falkland Islands (Islas Malvinas)",
          "Faroe Islands",
          "Federated States Of Micronesia",
          "Fiji",
          "Finland",
          "France",
          "French Guiana",
          "French Polynesia",
          "French Southern And Antarctic Lands",
          "Gabon",
          "Gambia",
          "Gaza Strip",
          "Georgia",
          "Germany",
          "Ghana",
          "Greece",
          "Greenland",
          "Grenada",
          "Guadeloupe",
          "Guam",
          "Guatemala",
          "Guernsey",
          "Guinea",
          "Guinea Bissau",
          "Guyana",
          "Haiti",
          "Heard Island And Mcdonald Islands",
          "Honduras",
          "Hong Kong",
          "Hungary",
          "Iceland",
          "India",
          "Indonesia",
          "Iran",
          "Iraq",
          "Ireland",
          "Isle Of Man",
          "Israel",
          "Italy",
          "Jamaica",
          "Japan",
          "Jersey",
          "Jordan",
          "Kazakhstan",
          "Kenya",
          "Kingman Reef",
          "Kiribati",
          "Kuwait",
          "Kyrgyzstan",
          "Laos",
          "Latvia",
          "Lebanon",
          "Lesotho",
          "Liberia",
          "Libya",
          "Liechtenstein",
          "Lithuania",
          "Luxembourg",
          "Macau",
          "Macedonia",
          "Madagascar",
          "Malawi",
          "Malaysia",
          "Mali",
          "Malta",
          "Martinique",
          "Mauritania",
          "Mauritius",
          "Mayotte",
          "Mexico",
          "Moldova",
          "Monaco",
          "Mongolia",
          "Montenegro",
          "Montserrat",
          "Morocco",
          "Mozambique",
          "Namibia",
          "Nepal",
          "Netherlands",
          "New Caledonia",
          "New Zealand",
          "Nicaragua",
          "Niger",
          "Nigeria",
          "Niue",
          "North America",
          "North Korea",
          "Northern Mariana Islands",
          "Norway",
          "Oceania",
          "Oman",
          "Pakistan",
          "Palau",
          "Palestina",
          "Palmyra Atoll",
          "Panama",
          "Papua New Guinea",
          "Paraguay",
          "Peru",
          "Philippines",
          "Poland",
          "Portugal",
          "Puerto Rico",
          "Qatar",
          "Reunion",
          "Romania",
          "Russia",
          "Rwanda",
          "Saint Barthélemy",
          "Saint Kitts And Nevis",
          "Saint Lucia",
          "Saint Martin",
          "Saint Pierre And Miquelon",
          "Saint Vincent And The Grenadines",
          "Samoa",
          "San Marino",
          "Sao Tome And Principe",
          "Saudi Arabia",
          "Senegal",
          "Serbia",
          "Seychelles",
          "Sierra Leone",
          "Singapore",
          "Sint Maarten",
          "Slovakia",
          "Slovenia",
          "Solomon Islands",
          "Somalia",
          "South Africa",
          "South America",
          "South Georgia And The South Sandwich Isla",
          "South Korea",
          "Spain",
          "Sri Lanka",
          "Sudan",
          "Suriname",
          "Svalbard And Jan Mayen",
          "Swaziland",
          "Sweden",
          "Switzerland",
          "Syria",
          "Taiwan",
          "Tajikistan",
          "Tanzania",
          "Thailand",
          "Timor Leste",
          "Togo",
          "Tonga",
          "Trinidad And Tobago",
          "Tunisia",
          "Turkey",
          "Turkmenistan",
          "Turks And Caicas Islands",
          "Uganda",
          "Ukraine",
          "United Arab Emirates",
          "United Kingdom",
          "United States",
          "Uruguay",
          "Uzbekistan",
          "Venezuela",
          "Vietnam",
          "Virgin Islands",
          "Western Sahara",
          "Yemen",
          "Zambia",
          "Zimbabwe",
          "Åland"
         ],
         "type": "choropleth",
         "z": [
          14.045007194244604,
          24.074202745512142,
          12.610645925457991,
          22.98511176905996,
          26.611965009208106,
          11.201553063802905,
          21.824549189814814,
          26.61049185043145,
          null,
          26.437924256951106,
          14.621194210526316,
          8.55164792663477,
          27.920390220517735,
          7.347892223161453,
          21.62469689119171,
          6.210731838281744,
          11.175936074918566,
          25.12822004008016,
          25.9308093346574,
          25.37235023279876,
          24.820242783708977,
          26.458547938638542,
          5.819288060644347,
          9.483378395451673,
          25.052099776286354,
          27.17199943181818,
          11.811878969957082,
          20.87723052631579,
          27.17329482262704,
          10.421283954516742,
          21.87929669156884,
          24.69925554528651,
          26.336523239099186,
          10.482968414403032,
          28.083506760411034,
          23.70619723953696,
          20.070990127758417,
          26.65685403576607,
          24.35258559077809,
          -5.216658945686901,
          24.185563568376068,
          26.72250415028397,
          25.280406916426514,
          27.120466282420747,
          9.383473684210525,
          6.612731031349386,
          25.78465407131453,
          24.716870967741936,
          25.702209302325578,
          24.462931988472622,
          23.77366493955095,
          25.61578443420379,
          11.342399873657612,
          25.40742638706859,
          27.353414669223394,
          18.78774568642161,
          7.62601926721415,
          25.948536060279874,
          -3.0265029336266958,
          28.8166025331725,
          26.110151486097795,
          25.54751121076233,
          21.869970347003154,
          22.620693031209917,
          24.90670454545455,
          24.921677809798272,
          26.802653110047846,
          4.819805748578648,
          23.01235675997618,
          7.830063802905876,
          6.076773492667029,
          6.619001579279849,
          26.944357771261004,
          25.038671779141108,
          1.244742261528743,
          11.594245735944408,
          25.718151106833492,
          26.10709611829944,
          4.9831111111111115,
          24.25472564841499,
          27.538551816239316,
          19.192636960985624,
          8.106881895881896,
          8.152496209728364,
          26.711013551665726,
          14.773012002526848,
          -18.58745804195804,
          26.741952061361456,
          26.329560882070954,
          26.996834337349398,
          23.111650494159928,
          10.928408717624764,
          25.4523530982906,
          26.761366648850878,
          25.93092011549567,
          26.295837740923353,
          2.5621149425287357,
          24.69554799459216,
          22.65989491362764,
          9.722423246999368,
          1.4050650663297535,
          23.873789473684212,
          25.684483767961684,
          17.607076451156203,
          21.775628879310347,
          9.419558433354391,
          9.365805432722679,
          19.62657730263158,
          12.737121920404297,
          26.09633956386293,
          11.951907335907336,
          10.928408717624764,
          19.346512587701195,
          5.202144758735441,
          24.102428231089934,
          27.133034438775514,
          26.73686534779834,
          25.098140232108317,
          3.2204981651376143,
          23.574696349065007,
          5.3205451674036635,
          17.63161773078487,
          13.726681793913508,
          25.37773793103448,
          22.268253938484623,
          4.642939039797853,
          5.9079917877447885,
          9.165196462413139,
          22.418374760076777,
          10.37555085281112,
          22.74904594441293,
          21.431086144578316,
          25.80544200779727,
          28.441976570820025,
          18.494875319693094,
          26.110151486097795,
          27.620255504352276,
          23.522653983353155,
          26.34096142938174,
          20.56755804195804,
          8.9317166771952,
          9.024701831964624,
          -0.8206709844559585,
          10.214629500947568,
          26.383128475551292,
          17.627497409326427,
          23.59619475878499,
          20.484495197438637,
          14.807390612244896,
          9.308701831964624,
          22.700108194965186,
          10.371239107883817,
          25.957508780036967,
          27.458972540045767,
          26.7447083091226,
          25.094878453038675,
          2.0283738920225622,
          6.748336832061068,
          26.996834337349398,
          0.09580385344283003,
          21.452989119170983,
          26.916862665897284,
          20.615513304305757,
          27.216379332477533,
          23.125663223140496,
          27.16345599489796,
          26.29162063808574,
          24.450801898734177,
          23.237967557251906,
          19.935974230044,
          26.44047248677249,
          7.46020593809223,
          14.688179987212276,
          25.451961667465262,
          26.784996015936255,
          23.30140309155767,
          8.76090176879343,
          -5.521881912681913,
          19.244422183507552,
          26.61049185043145,
          25.852186001917545,
          26.646838446788113,
          26.61049185043145,
          4.223059955113818,
          26.78944870565676,
          26.33186249232658,
          13.83142229943146,
          25.794386167146975,
          25.546407835258666,
          27.967375,
          9.986563171193936,
          26.738423142370962,
          26.02257127715951,
          26.52310282651072,
          26.61049185043145,
          7.527216993051168,
          9.659700568540746,
          26.62503698979592,
          26.877085169743896,
          17.27098291510945,
          21.823920081967213,
          1.4010251017639077,
          11.849048745173745,
          13.612834175615918,
          26.947687001594897,
          27.09335942857143,
          26.17166313763234,
          -7.448027925531916,
          18.83980726107848,
          2.3863319646241314,
          6.992051484523057,
          17.917548596990645,
          21.93742753623188,
          4.016035217794253,
          22.34791097178684,
          25.986800979519142,
          25.966332718327187,
          26.87178275666478,
          23.236247852760734,
          26.11875119846596,
          19.97059047314578,
          11.631567300916139,
          14.781998181818182,
          26.662733508082134,
          23.03296871378911,
          7.653507264687303,
          27.693994700582934,
          8.572556696146558,
          8.60357252215955,
          17.149306774809162,
          12.278015938069217,
          25.025685522531163,
          23.688365504061156,
          26.336523239099186,
          22.31981782334385,
          26.25359672528805,
          21.282955621301774,
          21.117547246376812,
          5.291383449147189
         ]
        }
       ],
       "layout": {
        "geo": {
         "lataxis": {
          "gridcolor": "rgb(0,30,30)",
          "showgrid": true
         },
         "lonaxis": {
          "gridcolor": "rgb(0,30,30)",
          "showgrid": true
         },
         "oceancolor": [
          100,
          180,
          222
         ],
         "projection": {
          "rotation": {
           "lat": 10,
           "lon": 60
          },
          "type": "orthographic"
         },
         "showcountries": true,
         "showframe": false,
         "showocean": true
        },
        "title": "Worldwide Average temp"
       }
      },
      "text/html": [
       "<div>                            <div id=\"65d1fca8-1b78-4b8e-98df-af03a0b76dcb\" class=\"plotly-graph-div\" style=\"height:525px; width:100%;\"></div>            <script type=\"text/javascript\">                require([\"plotly\"], function(Plotly) {                    window.PLOTLYENV=window.PLOTLYENV || {};                                    if (document.getElementById(\"65d1fca8-1b78-4b8e-98df-af03a0b76dcb\")) {                    Plotly.newPlot(                        \"65d1fca8-1b78-4b8e-98df-af03a0b76dcb\",                        [{\"autocolorscale\": false, \"colorbar\": {\"title\": \"Average Temperature, \\u00b0C\"}, \"colorscale\": \"custom-colorscale\", \"locationmode\": \"country names\", \"locations\": [\"Afghanistan\", \"Africa\", \"Albania\", \"Algeria\", \"American Samoa\", \"Andorra\", \"Angola\", \"Anguilla\", \"Antarctica\", \"Antigua And Barbuda\", \"Argentina\", \"Armenia\", \"Aruba\", \"Asia\", \"Australia\", \"Austria\", \"Azerbaijan\", \"Bahamas\", \"Bahrain\", \"Baker Island\", \"Bangladesh\", \"Barbados\", \"Belarus\", \"Belgium\", \"Belize\", \"Benin\", \"Bhutan\", \"Bolivia\", \"Bonaire, Saint Eustatius And Saba\", \"Bosnia And Herzegovina\", \"Botswana\", \"Brazil\", \"British Virgin Islands\", \"Bulgaria\", \"Burkina Faso\", \"Burma\", \"Burundi\", \"Cambodia\", \"Cameroon\", \"Canada\", \"Cape Verde\", \"Cayman Islands\", \"Central African Republic\", \"Chad\", \"Chile\", \"China\", \"Christmas Island\", \"Colombia\", \"Comoros\", \"Congo\", \"Congo (Democratic Republic Of The)\", \"Costa Rica\", \"Croatia\", \"Cuba\", \"Cura\\u00e7ao\", \"Cyprus\", \"Czech Republic\", \"C\\u00f4te D'Ivoire\", \"Denmark\", \"Djibouti\", \"Dominica\", \"Dominican Republic\", \"Ecuador\", \"Egypt\", \"El Salvador\", \"Equatorial Guinea\", \"Eritrea\", \"Estonia\", \"Ethiopia\", \"Europe\", \"Falkland Islands (Islas Malvinas)\", \"Faroe Islands\", \"Federated States Of Micronesia\", \"Fiji\", \"Finland\", \"France\", \"French Guiana\", \"French Polynesia\", \"French Southern And Antarctic Lands\", \"Gabon\", \"Gambia\", \"Gaza Strip\", \"Georgia\", \"Germany\", \"Ghana\", \"Greece\", \"Greenland\", \"Grenada\", \"Guadeloupe\", \"Guam\", \"Guatemala\", \"Guernsey\", \"Guinea\", \"Guinea Bissau\", \"Guyana\", \"Haiti\", \"Heard Island And Mcdonald Islands\", \"Honduras\", \"Hong Kong\", \"Hungary\", \"Iceland\", \"India\", \"Indonesia\", \"Iran\", \"Iraq\", \"Ireland\", \"Isle Of Man\", \"Israel\", \"Italy\", \"Jamaica\", \"Japan\", \"Jersey\", \"Jordan\", \"Kazakhstan\", \"Kenya\", \"Kingman Reef\", \"Kiribati\", \"Kuwait\", \"Kyrgyzstan\", \"Laos\", \"Latvia\", \"Lebanon\", \"Lesotho\", \"Liberia\", \"Libya\", \"Liechtenstein\", \"Lithuania\", \"Luxembourg\", \"Macau\", \"Macedonia\", \"Madagascar\", \"Malawi\", \"Malaysia\", \"Mali\", \"Malta\", \"Martinique\", \"Mauritania\", \"Mauritius\", \"Mayotte\", \"Mexico\", \"Moldova\", \"Monaco\", \"Mongolia\", \"Montenegro\", \"Montserrat\", \"Morocco\", \"Mozambique\", \"Namibia\", \"Nepal\", \"Netherlands\", \"New Caledonia\", \"New Zealand\", \"Nicaragua\", \"Niger\", \"Nigeria\", \"Niue\", \"North America\", \"North Korea\", \"Northern Mariana Islands\", \"Norway\", \"Oceania\", \"Oman\", \"Pakistan\", \"Palau\", \"Palestina\", \"Palmyra Atoll\", \"Panama\", \"Papua New Guinea\", \"Paraguay\", \"Peru\", \"Philippines\", \"Poland\", \"Portugal\", \"Puerto Rico\", \"Qatar\", \"Reunion\", \"Romania\", \"Russia\", \"Rwanda\", \"Saint Barth\\u00e9lemy\", \"Saint Kitts And Nevis\", \"Saint Lucia\", \"Saint Martin\", \"Saint Pierre And Miquelon\", \"Saint Vincent And The Grenadines\", \"Samoa\", \"San Marino\", \"Sao Tome And Principe\", \"Saudi Arabia\", \"Senegal\", \"Serbia\", \"Seychelles\", \"Sierra Leone\", \"Singapore\", \"Sint Maarten\", \"Slovakia\", \"Slovenia\", \"Solomon Islands\", \"Somalia\", \"South Africa\", \"South America\", \"South Georgia And The South Sandwich Isla\", \"South Korea\", \"Spain\", \"Sri Lanka\", \"Sudan\", \"Suriname\", \"Svalbard And Jan Mayen\", \"Swaziland\", \"Sweden\", \"Switzerland\", \"Syria\", \"Taiwan\", \"Tajikistan\", \"Tanzania\", \"Thailand\", \"Timor Leste\", \"Togo\", \"Tonga\", \"Trinidad And Tobago\", \"Tunisia\", \"Turkey\", \"Turkmenistan\", \"Turks And Caicas Islands\", \"Uganda\", \"Ukraine\", \"United Arab Emirates\", \"United Kingdom\", \"United States\", \"Uruguay\", \"Uzbekistan\", \"Venezuela\", \"Vietnam\", \"Virgin Islands\", \"Western Sahara\", \"Yemen\", \"Zambia\", \"Zimbabwe\", \"\\u00c5land\"], \"text\": [\"Afghanistan\", \"Africa\", \"Albania\", \"Algeria\", \"American Samoa\", \"Andorra\", \"Angola\", \"Anguilla\", \"Antarctica\", \"Antigua And Barbuda\", \"Argentina\", \"Armenia\", \"Aruba\", \"Asia\", \"Australia\", \"Austria\", \"Azerbaijan\", \"Bahamas\", \"Bahrain\", \"Baker Island\", \"Bangladesh\", \"Barbados\", \"Belarus\", \"Belgium\", \"Belize\", \"Benin\", \"Bhutan\", \"Bolivia\", \"Bonaire, Saint Eustatius And Saba\", \"Bosnia And Herzegovina\", \"Botswana\", \"Brazil\", \"British Virgin Islands\", \"Bulgaria\", \"Burkina Faso\", \"Burma\", \"Burundi\", \"Cambodia\", \"Cameroon\", \"Canada\", \"Cape Verde\", \"Cayman Islands\", \"Central African Republic\", \"Chad\", \"Chile\", \"China\", \"Christmas Island\", \"Colombia\", \"Comoros\", \"Congo\", \"Congo (Democratic Republic Of The)\", \"Costa Rica\", \"Croatia\", \"Cuba\", \"Cura\\u00e7ao\", \"Cyprus\", \"Czech Republic\", \"C\\u00f4te D'Ivoire\", \"Denmark\", \"Djibouti\", \"Dominica\", \"Dominican Republic\", \"Ecuador\", \"Egypt\", \"El Salvador\", \"Equatorial Guinea\", \"Eritrea\", \"Estonia\", \"Ethiopia\", \"Europe\", \"Falkland Islands (Islas Malvinas)\", \"Faroe Islands\", \"Federated States Of Micronesia\", \"Fiji\", \"Finland\", \"France\", \"French Guiana\", \"French Polynesia\", \"French Southern And Antarctic Lands\", \"Gabon\", \"Gambia\", \"Gaza Strip\", \"Georgia\", \"Germany\", \"Ghana\", \"Greece\", \"Greenland\", \"Grenada\", \"Guadeloupe\", \"Guam\", \"Guatemala\", \"Guernsey\", \"Guinea\", \"Guinea Bissau\", \"Guyana\", \"Haiti\", \"Heard Island And Mcdonald Islands\", \"Honduras\", \"Hong Kong\", \"Hungary\", \"Iceland\", \"India\", \"Indonesia\", \"Iran\", \"Iraq\", \"Ireland\", \"Isle Of Man\", \"Israel\", \"Italy\", \"Jamaica\", \"Japan\", \"Jersey\", \"Jordan\", \"Kazakhstan\", \"Kenya\", \"Kingman Reef\", \"Kiribati\", \"Kuwait\", \"Kyrgyzstan\", \"Laos\", \"Latvia\", \"Lebanon\", \"Lesotho\", \"Liberia\", \"Libya\", \"Liechtenstein\", \"Lithuania\", \"Luxembourg\", \"Macau\", \"Macedonia\", \"Madagascar\", \"Malawi\", \"Malaysia\", \"Mali\", \"Malta\", \"Martinique\", \"Mauritania\", \"Mauritius\", \"Mayotte\", \"Mexico\", \"Moldova\", \"Monaco\", \"Mongolia\", \"Montenegro\", \"Montserrat\", \"Morocco\", \"Mozambique\", \"Namibia\", \"Nepal\", \"Netherlands\", \"New Caledonia\", \"New Zealand\", \"Nicaragua\", \"Niger\", \"Nigeria\", \"Niue\", \"North America\", \"North Korea\", \"Northern Mariana Islands\", \"Norway\", \"Oceania\", \"Oman\", \"Pakistan\", \"Palau\", \"Palestina\", \"Palmyra Atoll\", \"Panama\", \"Papua New Guinea\", \"Paraguay\", \"Peru\", \"Philippines\", \"Poland\", \"Portugal\", \"Puerto Rico\", \"Qatar\", \"Reunion\", \"Romania\", \"Russia\", \"Rwanda\", \"Saint Barth\\u00e9lemy\", \"Saint Kitts And Nevis\", \"Saint Lucia\", \"Saint Martin\", \"Saint Pierre And Miquelon\", \"Saint Vincent And The Grenadines\", \"Samoa\", \"San Marino\", \"Sao Tome And Principe\", \"Saudi Arabia\", \"Senegal\", \"Serbia\", \"Seychelles\", \"Sierra Leone\", \"Singapore\", \"Sint Maarten\", \"Slovakia\", \"Slovenia\", \"Solomon Islands\", \"Somalia\", \"South Africa\", \"South America\", \"South Georgia And The South Sandwich Isla\", \"South Korea\", \"Spain\", \"Sri Lanka\", \"Sudan\", \"Suriname\", \"Svalbard And Jan Mayen\", \"Swaziland\", \"Sweden\", \"Switzerland\", \"Syria\", \"Taiwan\", \"Tajikistan\", \"Tanzania\", \"Thailand\", \"Timor Leste\", \"Togo\", \"Tonga\", \"Trinidad And Tobago\", \"Tunisia\", \"Turkey\", \"Turkmenistan\", \"Turks And Caicas Islands\", \"Uganda\", \"Ukraine\", \"United Arab Emirates\", \"United Kingdom\", \"United States\", \"Uruguay\", \"Uzbekistan\", \"Venezuela\", \"Vietnam\", \"Virgin Islands\", \"Western Sahara\", \"Yemen\", \"Zambia\", \"Zimbabwe\", \"\\u00c5land\"], \"type\": \"choropleth\", \"z\": [14.045007194244604, 24.074202745512142, 12.610645925457991, 22.98511176905996, 26.611965009208106, 11.201553063802905, 21.824549189814814, 26.61049185043145, null, 26.437924256951106, 14.621194210526316, 8.55164792663477, 27.920390220517735, 7.347892223161453, 21.62469689119171, 6.210731838281744, 11.175936074918566, 25.12822004008016, 25.9308093346574, 25.37235023279876, 24.820242783708977, 26.458547938638542, 5.819288060644347, 9.483378395451673, 25.052099776286354, 27.17199943181818, 11.811878969957082, 20.87723052631579, 27.17329482262704, 10.421283954516742, 21.87929669156884, 24.69925554528651, 26.336523239099186, 10.482968414403032, 28.083506760411034, 23.70619723953696, 20.070990127758417, 26.65685403576607, 24.35258559077809, -5.216658945686901, 24.185563568376068, 26.72250415028397, 25.280406916426514, 27.120466282420747, 9.383473684210525, 6.612731031349386, 25.78465407131453, 24.716870967741936, 25.702209302325578, 24.462931988472622, 23.77366493955095, 25.61578443420379, 11.342399873657612, 25.40742638706859, 27.353414669223394, 18.78774568642161, 7.62601926721415, 25.948536060279874, -3.0265029336266958, 28.8166025331725, 26.110151486097795, 25.54751121076233, 21.869970347003154, 22.620693031209917, 24.90670454545455, 24.921677809798272, 26.802653110047846, 4.819805748578648, 23.01235675997618, 7.830063802905876, 6.076773492667029, 6.619001579279849, 26.944357771261004, 25.038671779141108, 1.244742261528743, 11.594245735944408, 25.718151106833492, 26.10709611829944, 4.9831111111111115, 24.25472564841499, 27.538551816239316, 19.192636960985624, 8.106881895881896, 8.152496209728364, 26.711013551665726, 14.773012002526848, -18.58745804195804, 26.741952061361456, 26.329560882070954, 26.996834337349398, 23.111650494159928, 10.928408717624764, 25.4523530982906, 26.761366648850878, 25.93092011549567, 26.295837740923353, 2.5621149425287357, 24.69554799459216, 22.65989491362764, 9.722423246999368, 1.4050650663297535, 23.873789473684212, 25.684483767961684, 17.607076451156203, 21.775628879310347, 9.419558433354391, 9.365805432722679, 19.62657730263158, 12.737121920404297, 26.09633956386293, 11.951907335907336, 10.928408717624764, 19.346512587701195, 5.202144758735441, 24.102428231089934, 27.133034438775514, 26.73686534779834, 25.098140232108317, 3.2204981651376143, 23.574696349065007, 5.3205451674036635, 17.63161773078487, 13.726681793913508, 25.37773793103448, 22.268253938484623, 4.642939039797853, 5.9079917877447885, 9.165196462413139, 22.418374760076777, 10.37555085281112, 22.74904594441293, 21.431086144578316, 25.80544200779727, 28.441976570820025, 18.494875319693094, 26.110151486097795, 27.620255504352276, 23.522653983353155, 26.34096142938174, 20.56755804195804, 8.9317166771952, 9.024701831964624, -0.8206709844559585, 10.214629500947568, 26.383128475551292, 17.627497409326427, 23.59619475878499, 20.484495197438637, 14.807390612244896, 9.308701831964624, 22.700108194965186, 10.371239107883817, 25.957508780036967, 27.458972540045767, 26.7447083091226, 25.094878453038675, 2.0283738920225622, 6.748336832061068, 26.996834337349398, 0.09580385344283003, 21.452989119170983, 26.916862665897284, 20.615513304305757, 27.216379332477533, 23.125663223140496, 27.16345599489796, 26.29162063808574, 24.450801898734177, 23.237967557251906, 19.935974230044, 26.44047248677249, 7.46020593809223, 14.688179987212276, 25.451961667465262, 26.784996015936255, 23.30140309155767, 8.76090176879343, -5.521881912681913, 19.244422183507552, 26.61049185043145, 25.852186001917545, 26.646838446788113, 26.61049185043145, 4.223059955113818, 26.78944870565676, 26.33186249232658, 13.83142229943146, 25.794386167146975, 25.546407835258666, 27.967375, 9.986563171193936, 26.738423142370962, 26.02257127715951, 26.52310282651072, 26.61049185043145, 7.527216993051168, 9.659700568540746, 26.62503698979592, 26.877085169743896, 17.27098291510945, 21.823920081967213, 1.4010251017639077, 11.849048745173745, 13.612834175615918, 26.947687001594897, 27.09335942857143, 26.17166313763234, -7.448027925531916, 18.83980726107848, 2.3863319646241314, 6.992051484523057, 17.917548596990645, 21.93742753623188, 4.016035217794253, 22.34791097178684, 25.986800979519142, 25.966332718327187, 26.87178275666478, 23.236247852760734, 26.11875119846596, 19.97059047314578, 11.631567300916139, 14.781998181818182, 26.662733508082134, 23.03296871378911, 7.653507264687303, 27.693994700582934, 8.572556696146558, 8.60357252215955, 17.149306774809162, 12.278015938069217, 25.025685522531163, 23.688365504061156, 26.336523239099186, 22.31981782334385, 26.25359672528805, 21.282955621301774, 21.117547246376812, 5.291383449147189]}],                        {\"geo\": {\"lataxis\": {\"gridcolor\": \"rgb(0,30,30)\", \"showgrid\": true}, \"lonaxis\": {\"gridcolor\": \"rgb(0,30,30)\", \"showgrid\": true}, \"oceancolor\": [100, 180, 222], \"projection\": {\"rotation\": {\"lat\": 10, \"lon\": 60}, \"type\": \"orthographic\"}, \"showcountries\": true, \"showframe\": false, \"showocean\": true}, \"title\": \"Worldwide Average temp\"},                        {\"responsive\": true}                    ).then(function(){\n",
       "                            \n",
       "var gd = document.getElementById('65d1fca8-1b78-4b8e-98df-af03a0b76dcb');\n",
       "var x = new MutationObserver(function (mutations, observer) {{\n",
       "        var display = window.getComputedStyle(gd).display;\n",
       "        if (!display || display === 'none') {{\n",
       "            console.log([gd, 'removed!']);\n",
       "            Plotly.purge(gd);\n",
       "            observer.disconnect();\n",
       "        }}\n",
       "}});\n",
       "\n",
       "// Listen for the removal of the full notebook cells\n",
       "var notebookContainer = gd.closest('#notebook-container');\n",
       "if (notebookContainer) {{\n",
       "    x.observe(notebookContainer, {childList: true});\n",
       "}}\n",
       "\n",
       "// Listen for the clearing of the current output cell\n",
       "var outputEl = gd.closest('.output');\n",
       "if (outputEl) {{\n",
       "    x.observe(outputEl, {childList: true});\n",
       "}}\n",
       "\n",
       "                        })                };                });            </script>        </div>"
      ]
     },
     "metadata": {},
     "output_type": "display_data"
    }
   ],
   "source": [
    "data = [dict(type='choropleth', autocolorscale=False, locations = countries, z = average_temp, locationmode = 'country names',\n",
    "            text = countries, colorscale = 'custom-colorscale',\n",
    "            colorbar = dict(title = 'Average Temperature, °C'))]\n",
    "\n",
    "layout = dict(title = 'Worldwide Average temp', geo = dict(showcountries = True, showframe = False, showocean = True, \n",
    "                                                 oceancolor = (100,180,222),\n",
    "                                                 projection = dict(type = 'orthographic', rotation = dict(lon = 60, lat = 10)),\n",
    "                                                 lonaxis =  dict(showgrid = True, gridcolor = 'rgb(0,30,30)'),\n",
    "                                                 lataxis = dict(showgrid = True, gridcolor = 'rgb(0,30,30)')))\n",
    "\n",
    "fig = dict(data=data, layout=layout)\n",
    "py.iplot(fig, validate=False, filename='worldmap')"
   ]
  },
  {
   "cell_type": "code",
   "execution_count": 23,
   "id": "7414ce06",
   "metadata": {
    "scrolled": false
   },
   "outputs": [
    {
     "data": {
      "image/png": "[encoded data removed]",
      "text/plain": [
       "<Figure size 720x4320 with 1 Axes>"
      ]
     },
     "metadata": {},
     "output_type": "display_data"
    }
   ],
   "source": [
    "global_temp_asc = global_temp.groupby(by = ['Country']).mean().reset_index().sort_values('AverageTemperature',ascending=False)\n",
    "\n",
    "fig, axes = plt.subplots(figsize=(10,60))\n",
    "\n",
    "sb.set_color_codes(\"pastel\")\n",
    "sb.barplot(data=global_temp_asc, x='AverageTemperature', y='Country', label=\"Temperature\", palette = 'GnBu_r')\n",
    "\n",
    "axes.set(xlim=(-20, 40), xlabel='Average Temperature', ylabel = '')\n",
    "axes.legend(loc='upper right')\n",
    "sb.set(style='white',font_scale=1)"
   ]
  }
 ],
 "metadata": {
  "kernelspec": {
   "display_name": "Python 3",
   "language": "python",
   "name": "python3"
  },
  "language_info": {
   "codemirror_mode": {
    "name": "ipython",
    "version": 3
   },
   "file_extension": ".py",
   "mimetype": "text/x-python",
   "name": "python",
   "nbconvert_exporter": "python",
   "pygments_lexer": "ipython3",
   "version": "3.9.4"
  }
 },
 "nbformat": 4,
 "nbformat_minor": 5
}
